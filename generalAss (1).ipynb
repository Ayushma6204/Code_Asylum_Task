{
 "cells": [
  {
   "cell_type": "code",
   "execution_count": 58,
   "metadata": {
    "scrolled": true
   },
   "outputs": [
    {
     "name": "stdout",
     "output_type": "stream",
     "text": [
      "Device 139681125603136 was on for 7  seconds.\n",
      "Device 139681125603136 had following error events:\n",
      "\t Jul 11 16:11:54:661\n",
      "\t Jul 11 16:11:56:067\n",
      "Device 139681125603178 was on for 17  seconds.\n",
      "Device 139681125603178 had no error events.\n",
      "Device 139681125603191 was on for 3  seconds.\n",
      "Device 139681125603191 had following error events:\n",
      "\t Jul 11 16:11:55:083\n"
     ]
    }
   ],
   "source": [
    "from datetime import datetime\n",
    "from collections import OrderedDict\n",
    "\n",
    "def monthToNum(shortMonth):\n",
    "    return {\n",
    "            'Jan': 1,\n",
    "            'Feb': 2,\n",
    "            'Mar': 3,\n",
    "            'Apr': 4,\n",
    "            'May': 5,\n",
    "            'Jun': 6,\n",
    "            'Jul': 7,\n",
    "            'Aug': 8,\n",
    "            'Sep': 9, \n",
    "            'Oct': 10,\n",
    "            'Nov': 11,\n",
    "            'Dec': 12\n",
    "    }[shortMonth]\n",
    "\n",
    "dict = {}\n",
    "err = {}\n",
    "ans = {}\n",
    "# dict = (device: time)\n",
    "# err = {device: time}\n",
    "# output = {device: tdelta}\n",
    "\n",
    "\n",
    "with open('data.log') as f:\n",
    "    for line in f:\n",
    "        date = line[0:19];\n",
    "#         print(date)\n",
    "        device = line[21:36]\n",
    "#         print(device)\n",
    "        status = line[46:]\n",
    "        status = status[:len(status)-1]\n",
    "#         print(status)\n",
    "\n",
    "        if status == 'ON' and device not in dict:\n",
    "            dict[device] = date\n",
    "        \n",
    "        if status == 'ERR':\n",
    "            if device not in err:\n",
    "                arr = []\n",
    "                arr.append(date)\n",
    "                err[device] = arr\n",
    "            else:\n",
    "                err[device].append(date)\n",
    "            \n",
    "        if (status == 'OFF' or status == 'OF') and device in dict:\n",
    "            date2 = date.split()\n",
    "            month2 = monthToNum(date2[0])\n",
    "            day2 = int(date2[1])\n",
    "            \n",
    "            date1 = dict[device].split()\n",
    "            month1 = monthToNum(date1[0])\n",
    "            day1 = int(date1[1])\n",
    "            \n",
    "            date_format_str = '%d/%m/%Y %H:%M:%S:%f'\n",
    "            d2 = str(day2)+'/'+str(month2)+'/2021 '+date2[2]\n",
    "            d1 = str(day1)+'/'+str(month1)+'/2021 '+date1[2]\n",
    "            start = datetime.strptime(d1, date_format_str)\n",
    "            end = datetime.strptime(d2, date_format_str)\n",
    "            diff = end - start\n",
    "            ans[device] = int(diff.total_seconds())\n",
    "            \n",
    "dict1 = OrderedDict(sorted(dict.items()))\n",
    "for device in dict1:\n",
    "    print('Device', device, 'was on for', ans[device], ' seconds.')\n",
    "    if device in err:\n",
    "        print('Device', device, 'had following error events:')\n",
    "        for date in err[device]:\n",
    "            print('\\t',date)\n",
    "    else:\n",
    "        print('Device', device, 'had no error events.')"
   ]
  },
  {
   "cell_type": "code",
   "execution_count": null,
   "metadata": {},
   "outputs": [],
   "source": []
  }
 ],
 "metadata": {
  "kernelspec": {
   "display_name": "Python 3",
   "language": "python",
   "name": "python3"
  },
  "language_info": {
   "codemirror_mode": {
    "name": "ipython",
    "version": 3
   },
   "file_extension": ".py",
   "mimetype": "text/x-python",
   "name": "python",
   "nbconvert_exporter": "python",
   "pygments_lexer": "ipython3",
   "version": "3.8.5"
  }
 },
 "nbformat": 4,
 "nbformat_minor": 4
}
